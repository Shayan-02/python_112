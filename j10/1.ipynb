{
 "cells": [
  {
   "cell_type": "code",
   "execution_count": 4,
   "metadata": {},
   "outputs": [],
   "source": [
    "d = {\"name\" : \"ali\", \"age\" : 20, \"job\" : \"student\"}"
   ]
  },
  {
   "cell_type": "code",
   "execution_count": 5,
   "metadata": {},
   "outputs": [
    {
     "name": "stdout",
     "output_type": "stream",
     "text": [
      "dict_keys(['name', 'age', 'job'])\n",
      "dict_values(['ali', 20, 'student'])\n",
      "dict_items([('name', 'ali'), ('age', 20), ('job', 'student')])\n"
     ]
    }
   ],
   "source": [
    "print(d.keys())\n",
    "print(d.values())\n",
    "print(d.items())"
   ]
  },
  {
   "cell_type": "code",
   "execution_count": 13,
   "metadata": {},
   "outputs": [
    {
     "name": "stdout",
     "output_type": "stream",
     "text": [
      "name : ali\n",
      "age : 20\n",
      "job : student\n"
     ]
    }
   ],
   "source": [
    "for _ in d:\n",
    "    print(f\"{_} : {d[_]}\")"
   ]
  },
  {
   "cell_type": "code",
   "execution_count": 14,
   "metadata": {},
   "outputs": [
    {
     "data": {
      "text/plain": [
       "{'model': 'mustang', 'brand': 'ford', 'year': 1995}"
      ]
     },
     "execution_count": 14,
     "metadata": {},
     "output_type": "execute_result"
    }
   ],
   "source": [
    "di = {\"model\" : \"mustang\", \"brand\" : \"ford\", \"year\" : 1995}\n",
    "di"
   ]
  },
  {
   "cell_type": "code",
   "execution_count": 15,
   "metadata": {},
   "outputs": [
    {
     "data": {
      "text/plain": [
       "'mustang'"
      ]
     },
     "execution_count": 15,
     "metadata": {},
     "output_type": "execute_result"
    }
   ],
   "source": [
    "di[\"model\"]"
   ]
  },
  {
   "cell_type": "code",
   "execution_count": 16,
   "metadata": {},
   "outputs": [
    {
     "data": {
      "text/plain": [
       "{'model': 'mustang', 'brand': 'ford', 'year': 1995, 'color': 'black'}"
      ]
     },
     "execution_count": 16,
     "metadata": {},
     "output_type": "execute_result"
    }
   ],
   "source": [
    "di[\"color\"] = \"black\"\n",
    "di"
   ]
  },
  {
   "cell_type": "code",
   "execution_count": 17,
   "metadata": {},
   "outputs": [
    {
     "data": {
      "text/plain": [
       "{'model': 'mustang',\n",
       " 'brand': 'ford',\n",
       " 'year': 1995,\n",
       " 'color': 'black',\n",
       " 'engine': 'gas'}"
      ]
     },
     "execution_count": 17,
     "metadata": {},
     "output_type": "execute_result"
    }
   ],
   "source": [
    "di.update({\"engine\" : \"gas\"})\n",
    "di"
   ]
  },
  {
   "cell_type": "code",
   "execution_count": 18,
   "metadata": {},
   "outputs": [
    {
     "data": {
      "text/plain": [
       "{'model': 'mustang',\n",
       " 'brand': 'ford',\n",
       " 'year': 1995,\n",
       " 'color': 'white',\n",
       " 'engine': 'gas'}"
      ]
     },
     "execution_count": 18,
     "metadata": {},
     "output_type": "execute_result"
    }
   ],
   "source": [
    "di[\"color\"] = \"white\"\n",
    "di"
   ]
  },
  {
   "cell_type": "code",
   "execution_count": 19,
   "metadata": {},
   "outputs": [
    {
     "data": {
      "text/plain": [
       "{'model': 'mustang', 'brand': 'ford', 'color': 'white', 'engine': 'gas'}"
      ]
     },
     "execution_count": 19,
     "metadata": {},
     "output_type": "execute_result"
    }
   ],
   "source": [
    "di.pop(\"year\")\n",
    "di"
   ]
  },
  {
   "cell_type": "code",
   "execution_count": null,
   "metadata": {},
   "outputs": [],
   "source": []
  },
  {
   "cell_type": "code",
   "execution_count": 20,
   "metadata": {},
   "outputs": [],
   "source": [
    "family = {\n",
    "    \"father\": {\n",
    "        \"name\": {\"fname\": \"john\", \"lname\": \"smith\"},\n",
    "        \"age\": 50,\n",
    "        \"job\": {1: \"employee\", 2: \"super market\"},\n",
    "    },\n",
    "    \"mother\": {\n",
    "        \"name\": {\"fname\": \"jerry\", \"lname\": \"rose\"},\n",
    "        \"age\": 46,\n",
    "        \"job\": {1: \"house keeper\", 2: \"frontend designer\"},\n",
    "    },\n",
    "    \"sons\": {\n",
    "        \"son1\": {\n",
    "            \"name\": {\"fname\": \"jack\", \"lname\": \"smith\"},\n",
    "            \"age\": 20,\n",
    "            \"job\": {1: \"mechanic engineer\", 2: \"student\"},\n",
    "        },\n",
    "        \"son2\": {\n",
    "            \"name\": {\"fname\": \"joseph\", \"lname\": \"smith\"},\n",
    "            \"age\": 18,\n",
    "            \"job\": {1 : \"workless\", 2: \"student\"},\n",
    "        },\n",
    "    }\n",
    "}"
   ]
  },
  {
   "cell_type": "code",
   "execution_count": 23,
   "metadata": {},
   "outputs": [
    {
     "name": "stdout",
     "output_type": "stream",
     "text": [
      "john smith\n"
     ]
    }
   ],
   "source": [
    "print(family[\"father\"][\"name\"][\"fname\"], family[\"father\"][\"name\"][\"lname\"])"
   ]
  }
 ],
 "metadata": {
  "kernelspec": {
   "display_name": "Python 3",
   "language": "python",
   "name": "python3"
  },
  "language_info": {
   "codemirror_mode": {
    "name": "ipython",
    "version": 3
   },
   "file_extension": ".py",
   "mimetype": "text/x-python",
   "name": "python",
   "nbconvert_exporter": "python",
   "pygments_lexer": "ipython3",
   "version": "3.13.1"
  }
 },
 "nbformat": 4,
 "nbformat_minor": 2
}
